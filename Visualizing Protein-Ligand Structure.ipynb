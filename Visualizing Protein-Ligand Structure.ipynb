{
 "cells": [
  {
   "cell_type": "code",
   "execution_count": 1,
   "metadata": {
    "collapsed": true
   },
   "outputs": [],
   "source": [
    "%matplotlib inline\n",
    "import pandas as pd\n",
    "import matplotlib.pyplot as plt\n",
    "\n",
    "pdbbind = pd.read_csv('./data/pdbbind_binding_affinity.csv')\n",
    "dude = pd.read_csv('./data/dude_info.csv')"
   ]
  },
  {
   "cell_type": "code",
   "execution_count": 2,
   "metadata": {},
   "outputs": [
    {
     "data": {
      "text/html": [
       "<div>\n",
       "<style scoped>\n",
       "    .dataframe tbody tr th:only-of-type {\n",
       "        vertical-align: middle;\n",
       "    }\n",
       "\n",
       "    .dataframe tbody tr th {\n",
       "        vertical-align: top;\n",
       "    }\n",
       "\n",
       "    .dataframe thead th {\n",
       "        text-align: right;\n",
       "    }\n",
       "</style>\n",
       "<table border=\"1\" class=\"dataframe\">\n",
       "  <thead>\n",
       "    <tr style=\"text-align: right;\">\n",
       "      <th></th>\n",
       "      <th>Unnamed: 0</th>\n",
       "      <th>id</th>\n",
       "      <th>resolution</th>\n",
       "      <th>release_year</th>\n",
       "      <th>interaction_type</th>\n",
       "      <th>-log(kd/ki)</th>\n",
       "      <th>binding_type</th>\n",
       "      <th>binding_affinity</th>\n",
       "    </tr>\n",
       "  </thead>\n",
       "  <tbody>\n",
       "    <tr>\n",
       "      <td>5265</td>\n",
       "      <td>5265</td>\n",
       "      <td>3gww</td>\n",
       "      <td>2.46</td>\n",
       "      <td>2009</td>\n",
       "      <td>protein-ligand</td>\n",
       "      <td>NaN</td>\n",
       "      <td>ic50</td>\n",
       "      <td>1.035637</td>\n",
       "    </tr>\n",
       "    <tr>\n",
       "      <td>5260</td>\n",
       "      <td>5260</td>\n",
       "      <td>3fqa</td>\n",
       "      <td>2.35</td>\n",
       "      <td>2009</td>\n",
       "      <td>protein-ligand</td>\n",
       "      <td>NaN</td>\n",
       "      <td>ic50</td>\n",
       "      <td>1.139434</td>\n",
       "    </tr>\n",
       "    <tr>\n",
       "      <td>5362</td>\n",
       "      <td>5362</td>\n",
       "      <td>3fl9</td>\n",
       "      <td>2.40</td>\n",
       "      <td>2009</td>\n",
       "      <td>protein-ligand</td>\n",
       "      <td>NaN</td>\n",
       "      <td>ic50</td>\n",
       "      <td>2.561356</td>\n",
       "    </tr>\n",
       "    <tr>\n",
       "      <td>11120</td>\n",
       "      <td>11120</td>\n",
       "      <td>4to8</td>\n",
       "      <td>2.10</td>\n",
       "      <td>2014</td>\n",
       "      <td>protein-ligand</td>\n",
       "      <td>NaN</td>\n",
       "      <td>ic50</td>\n",
       "      <td>2.866460</td>\n",
       "    </tr>\n",
       "    <tr>\n",
       "      <td>1379</td>\n",
       "      <td>1379</td>\n",
       "      <td>1hty</td>\n",
       "      <td>1.40</td>\n",
       "      <td>2002</td>\n",
       "      <td>protein-ligand</td>\n",
       "      <td>NaN</td>\n",
       "      <td>ic50</td>\n",
       "      <td>3.218876</td>\n",
       "    </tr>\n",
       "    <tr>\n",
       "      <td>...</td>\n",
       "      <td>...</td>\n",
       "      <td>...</td>\n",
       "      <td>...</td>\n",
       "      <td>...</td>\n",
       "      <td>...</td>\n",
       "      <td>...</td>\n",
       "      <td>...</td>\n",
       "      <td>...</td>\n",
       "    </tr>\n",
       "    <tr>\n",
       "      <td>5241</td>\n",
       "      <td>5241</td>\n",
       "      <td>3hvg</td>\n",
       "      <td>2.26</td>\n",
       "      <td>2009</td>\n",
       "      <td>protein-ligand</td>\n",
       "      <td>NaN</td>\n",
       "      <td>ic50</td>\n",
       "      <td>6.214608</td>\n",
       "    </tr>\n",
       "    <tr>\n",
       "      <td>6327</td>\n",
       "      <td>6327</td>\n",
       "      <td>3ftz</td>\n",
       "      <td>2.00</td>\n",
       "      <td>2010</td>\n",
       "      <td>protein-ligand</td>\n",
       "      <td>NaN</td>\n",
       "      <td>ic50</td>\n",
       "      <td>6.214608</td>\n",
       "    </tr>\n",
       "    <tr>\n",
       "      <td>12624</td>\n",
       "      <td>12624</td>\n",
       "      <td>4ypf</td>\n",
       "      <td>2.20</td>\n",
       "      <td>2015</td>\n",
       "      <td>protein-ligand</td>\n",
       "      <td>NaN</td>\n",
       "      <td>ic50</td>\n",
       "      <td>6.214608</td>\n",
       "    </tr>\n",
       "    <tr>\n",
       "      <td>12625</td>\n",
       "      <td>12625</td>\n",
       "      <td>4yrc</td>\n",
       "      <td>2.10</td>\n",
       "      <td>2015</td>\n",
       "      <td>protein-ligand</td>\n",
       "      <td>NaN</td>\n",
       "      <td>ic50</td>\n",
       "      <td>6.214608</td>\n",
       "    </tr>\n",
       "    <tr>\n",
       "      <td>12626</td>\n",
       "      <td>12626</td>\n",
       "      <td>4yrg</td>\n",
       "      <td>2.15</td>\n",
       "      <td>2015</td>\n",
       "      <td>protein-ligand</td>\n",
       "      <td>NaN</td>\n",
       "      <td>ic50</td>\n",
       "      <td>6.214608</td>\n",
       "    </tr>\n",
       "  </tbody>\n",
       "</table>\n",
       "<p>100 rows × 8 columns</p>\n",
       "</div>"
      ],
      "text/plain": [
       "       Unnamed: 0    id  resolution  release_year interaction_type  \\\n",
       "5265         5265  3gww        2.46          2009   protein-ligand   \n",
       "5260         5260  3fqa        2.35          2009   protein-ligand   \n",
       "5362         5362  3fl9        2.40          2009   protein-ligand   \n",
       "11120       11120  4to8        2.10          2014   protein-ligand   \n",
       "1379         1379  1hty        1.40          2002   protein-ligand   \n",
       "...           ...   ...         ...           ...              ...   \n",
       "5241         5241  3hvg        2.26          2009   protein-ligand   \n",
       "6327         6327  3ftz        2.00          2010   protein-ligand   \n",
       "12624       12624  4ypf        2.20          2015   protein-ligand   \n",
       "12625       12625  4yrc        2.10          2015   protein-ligand   \n",
       "12626       12626  4yrg        2.15          2015   protein-ligand   \n",
       "\n",
       "       -log(kd/ki) binding_type  binding_affinity  \n",
       "5265           NaN         ic50          1.035637  \n",
       "5260           NaN         ic50          1.139434  \n",
       "5362           NaN         ic50          2.561356  \n",
       "11120          NaN         ic50          2.866460  \n",
       "1379           NaN         ic50          3.218876  \n",
       "...            ...          ...               ...  \n",
       "5241           NaN         ic50          6.214608  \n",
       "6327           NaN         ic50          6.214608  \n",
       "12624          NaN         ic50          6.214608  \n",
       "12625          NaN         ic50          6.214608  \n",
       "12626          NaN         ic50          6.214608  \n",
       "\n",
       "[100 rows x 8 columns]"
      ]
     },
     "execution_count": 2,
     "metadata": {},
     "output_type": "execute_result"
    }
   ],
   "source": [
    "ic50 = pdbbind[pdbbind['binding_type'] == 'ic50']\n",
    "ic50.nsmallest(100, 'binding_affinity')"
   ]
  },
  {
   "cell_type": "code",
   "execution_count": 3,
   "metadata": {},
   "outputs": [
    {
     "data": {
      "text/plain": [
       "(array([   8.,   76.,  296.,  604.,  986., 1435., 1615.,  846.,  143.,\n",
       "          11.]),\n",
       " array([ 1.03563749,  3.58531462,  6.13499176,  8.68466889, 11.23434602,\n",
       "        13.78402316, 16.33370029, 18.88337743, 21.43305456, 23.98273169,\n",
       "        26.53240883]),\n",
       " <a list of 10 Patch objects>)"
      ]
     },
     "execution_count": 3,
     "metadata": {},
     "output_type": "execute_result"
    },
    {
     "data": {
      "image/png": "[encoded data removed]",
      "text/plain": [
       "<Figure size 432x288 with 1 Axes>"
      ]
     },
     "metadata": {
      "needs_background": "light"
     },
     "output_type": "display_data"
    }
   ],
   "source": [
    "plt.hist(pdbbind[pdbbind['binding_type'] == 'ic50']['binding_affinity'].tolist())"
   ]
  },
  {
   "cell_type": "code",
   "execution_count": 4,
   "metadata": {
    "collapsed": true
   },
   "outputs": [],
   "source": [
    "dude = dude.rename(columns={'Target Name': 'dude_id', 'PDB': 'id'})"
   ]
  },
  {
   "cell_type": "code",
   "execution_count": 5,
   "metadata": {},
   "outputs": [
    {
     "data": {
      "text/html": [
       "<div>\n",
       "<style scoped>\n",
       "    .dataframe tbody tr th:only-of-type {\n",
       "        vertical-align: middle;\n",
       "    }\n",
       "\n",
       "    .dataframe tbody tr th {\n",
       "        vertical-align: top;\n",
       "    }\n",
       "\n",
       "    .dataframe thead th {\n",
       "        text-align: right;\n",
       "    }\n",
       "</style>\n",
       "<table border=\"1\" class=\"dataframe\">\n",
       "  <thead>\n",
       "    <tr style=\"text-align: right;\">\n",
       "      <th></th>\n",
       "      <th>Unnamed: 0</th>\n",
       "      <th>resolution</th>\n",
       "      <th>release_year</th>\n",
       "      <th>-log(kd/ki)</th>\n",
       "      <th>binding_affinity</th>\n",
       "    </tr>\n",
       "  </thead>\n",
       "  <tbody>\n",
       "    <tr>\n",
       "      <td>count</td>\n",
       "      <td>38.000000</td>\n",
       "      <td>38.000000</td>\n",
       "      <td>38.000000</td>\n",
       "      <td>0.0</td>\n",
       "      <td>38.000000</td>\n",
       "    </tr>\n",
       "    <tr>\n",
       "      <td>mean</td>\n",
       "      <td>4077.657895</td>\n",
       "      <td>2.030000</td>\n",
       "      <td>2007.105263</td>\n",
       "      <td>NaN</td>\n",
       "      <td>16.302776</td>\n",
       "    </tr>\n",
       "    <tr>\n",
       "      <td>std</td>\n",
       "      <td>1597.885719</td>\n",
       "      <td>0.341238</td>\n",
       "      <td>3.073773</td>\n",
       "      <td>NaN</td>\n",
       "      <td>3.963944</td>\n",
       "    </tr>\n",
       "    <tr>\n",
       "      <td>min</td>\n",
       "      <td>374.000000</td>\n",
       "      <td>1.450000</td>\n",
       "      <td>1997.000000</td>\n",
       "      <td>NaN</td>\n",
       "      <td>7.986565</td>\n",
       "    </tr>\n",
       "    <tr>\n",
       "      <td>25%</td>\n",
       "      <td>3529.250000</td>\n",
       "      <td>1.800000</td>\n",
       "      <td>2007.000000</td>\n",
       "      <td>NaN</td>\n",
       "      <td>13.841851</td>\n",
       "    </tr>\n",
       "    <tr>\n",
       "      <td>50%</td>\n",
       "      <td>4229.500000</td>\n",
       "      <td>2.000000</td>\n",
       "      <td>2008.000000</td>\n",
       "      <td>NaN</td>\n",
       "      <td>17.035638</td>\n",
       "    </tr>\n",
       "    <tr>\n",
       "      <td>75%</td>\n",
       "      <td>5146.750000</td>\n",
       "      <td>2.100000</td>\n",
       "      <td>2009.000000</td>\n",
       "      <td>NaN</td>\n",
       "      <td>19.137093</td>\n",
       "    </tr>\n",
       "    <tr>\n",
       "      <td>max</td>\n",
       "      <td>7222.000000</td>\n",
       "      <td>3.300000</td>\n",
       "      <td>2011.000000</td>\n",
       "      <td>NaN</td>\n",
       "      <td>24.229824</td>\n",
       "    </tr>\n",
       "  </tbody>\n",
       "</table>\n",
       "</div>"
      ],
      "text/plain": [
       "        Unnamed: 0  resolution  release_year  -log(kd/ki)  binding_affinity\n",
       "count    38.000000   38.000000     38.000000          0.0         38.000000\n",
       "mean   4077.657895    2.030000   2007.105263          NaN         16.302776\n",
       "std    1597.885719    0.341238      3.073773          NaN          3.963944\n",
       "min     374.000000    1.450000   1997.000000          NaN          7.986565\n",
       "25%    3529.250000    1.800000   2007.000000          NaN         13.841851\n",
       "50%    4229.500000    2.000000   2008.000000          NaN         17.035638\n",
       "75%    5146.750000    2.100000   2009.000000          NaN         19.137093\n",
       "max    7222.000000    3.300000   2011.000000          NaN         24.229824"
      ]
     },
     "execution_count": 5,
     "metadata": {},
     "output_type": "execute_result"
    }
   ],
   "source": [
    "joined = pd.merge(pdbbind, dude[['dude_id', 'id']], on='id')\n",
    "joined[joined['binding_type'] == 'ic50'].describe()"
   ]
  },
  {
   "cell_type": "code",
   "execution_count": 6,
   "metadata": {
    "collapsed": true
   },
   "outputs": [],
   "source": [
    "dude2pdb_df = pd.read_csv('./data/dude2pdb.csv')\n",
    "dude2pdb = {row['dude_id']: row['id'] for _, row in dude2pdb_df.iterrows()}"
   ]
  },
  {
   "cell_type": "markdown",
   "metadata": {},
   "source": [
    "## Visualize Protein "
   ]
  },
  {
   "cell_type": "markdown",
   "metadata": {},
   "source": [
    "If nothing shows after running the blocks, run the commands below in your environment.\n",
    "\n",
    "```\n",
    "jupyter-nbextension enable --py --sys-prefix widgetsnbextension\n",
    "jupyter-nbextension enable nglview --py --sys-prefix\n",
    "```"
   ]
  },
  {
   "cell_type": "markdown",
   "metadata": {},
   "source": [
    "### 3D Representation of Protein-Ligand Complex"
   ]
  },
  {
   "cell_type": "code",
   "execution_count": null,
   "metadata": {},
   "outputs": [],
   "source": [
    "%load_ext autoreload\n",
    "%autoreload 2\n",
    "%pdb off\n",
    "# set DISPLAY = True when running tutorial\n",
    "DISPLAY = False\n",
    "# set PARALLELIZE to true if you want to use ipyparallel\n",
    "PARALLELIZE = False\n",
    "import warnings\n",
    "warnings.filterwarnings('ignore')\n",
    "import nglview\n",
    "import tempfile\n",
    "import os\n",
    "import mdtraj as md\n",
    "import numpy as np\n",
    "#import deepchem.utils.visualization\n",
    "#from deepchem.utils.visualization import combine_mdtraj, visualize_complex, convert_lines_to_mdtraj\n",
    "\n",
    "# https://deepchem.io/docs/notebooks/protein_ligand_complex_notebook.html\n",
    "\n",
    "\n",
    "\"\"\"\n",
    "def convert_lines_to_mdtraj(molecule_lines):\n",
    "    molecule_lines = molecule_lines.strip('[').strip(']').replace(\"'\",\"\").replace(\"\\\\n\", \"\").split(\", \")\n",
    "    tempdir = tempfile.mkdtemp()\n",
    "    molecule_file = os.path.join(tempdir, \"molecule.pdb\")\n",
    "    with open(molecule_file, \"w\") as f:\n",
    "        for line in molecule_lines:\n",
    "            f.write(\"%s\\n\" % line)dude_id = 'akt1'\n",
    "pdbid = dude2pdb.get(dude_id)\n",
    "\n",
    "sample_protein_pdb = './data/dude/{}/receptor.pdb'.format(dude_id)\n",
    "sample_pocket_pdb = './data/pdbbind/v2018/{}/{}_pocket.pdb'.format(pdbid, pdbid)\n",
    "\n",
    "positive_ligand_pdb = './data/dude/{}/actives/actives_1.pdb'.format(dude_id)\n",
    "negative_ligand_pdb = './data/dude/{}/decoys/decoys_1.pdb'.format(dude_id)\n",
    "    molecule_mdtraj = md.load(molecule_file)\n",
    "    return molecule_mdtraj\n",
    "\"\"\"\n",
    "def visualize_protein(molecule_mdtraj):\n",
    "    traj = nglview.MDTrajTrajectory(molecule_mdtraj) \n",
    "    ngltraj = nglview.NGLWidget( traj )\n",
    "    \n",
    "    return ngltraj\n",
    "\n",
    "def visualize_ligand(ligand_mdtraj):\n",
    "    traj = nglview.MDTrajTrajectory( ligand_mdtraj ) # load file from RCSB PDB\n",
    "    ngltraj = nglview.NGLWidget( traj )\n",
    "    ngltraj.representations = [\n",
    "        { \"type\": \"ball+stick\", \"params\": {\"sele\": \"all\" } } ]\n",
    "    return ngltraj\n",
    "\n",
    "def combine_mdtraj(protein, ligand):\n",
    "    chain = protein.topology.add_chain()\n",
    "    residue = protein.topology.add_residue(\"LIG\", chain, resSeq=1)\n",
    "    for atom in ligand.topology.atoms:\n",
    "        protein.topology.add_atom(atom.name, atom.element, residue)\n",
    "    protein.xyz = np.hstack([protein.xyz, ligand.xyz])\n",
    "    protein.topology.create_standard_bonds()\n",
    "\n",
    "    return protein\n",
    "    \n",
    "def visualize_complex(complex_mdtraj):\n",
    "    ligand_atoms = [a.index for a in complex_mdtraj.topology.atoms if \"LIG\" in str(a.residue)]\n",
    "    binding_pocket_atoms = md.compute_neighbors(complex_mdtraj, 0.5, ligand_atoms)[0]\n",
    "    binding_pocket_residues = list(set([complex_mdtraj.topology.atom(a).residue.resSeq for a in binding_pocket_atoms]))\n",
    "    binding_pocket_residues = [str(r) for r in binding_pocket_residues]\n",
    "    binding_pocket_residues = \" or \".join(binding_pocket_residues)\n",
    "\n",
    "    traj = nglview.MDTrajTrajectory( complex_mdtraj ) # load file from RCSB PDB\n",
    "    ngltraj = nglview.NGLWidget( traj )\n",
    "    ngltraj.representations = [\n",
    "    { \"type\": \"cartoon\", \"params\": {\n",
    "    \"sele\": \"protein\", \"color\": \"residueindex\"\n",
    "    } },\n",
    "    { \"type\": \"licorice\", \"params\": {\n",
    "    \"sele\": \"(not hydrogen) and (%s)\" %  binding_pocket_residues\n",
    "    } },\n",
    "    { \"type\": \"ball+stick\", \"params\": {\n",
    "    \"sele\": \"LIG\"\n",
    "    } }\n",
    "    ]\n",
    "    return ngltraj\n",
    "\n",
    "\n",
    "def visualize_dude_complex(dude_id, type, i, show_pdb=True):\n",
    "    protein_pdb = './data/dude/{}/receptor.pdb'.format(dude_id)\n",
    "    \n",
    "    if dude_id in dude2pdb and show_pdb:\n",
    "        print('Showing PDBBind ID {}'.format(dude2pdb[dude_id]))\n",
    "        protein_pdb = './data/pdbbind/v2018/{}/{}_protein.pdb'.format(dude2pdb[dude_id], dude2pdb[dude_id])\n",
    "    \n",
    "    ligand_pdb = './data/dude/%s/%s/%s_%d.pdb' % (dude_id, type, type, i)\n",
    "\n",
    "    return visualize_complex(combine_mdtraj(md.load(protein_pdb), md.load(ligand_pdb)))\n",
    "    \n",
    "#first_protein, first_ligand = raw_dataset.iloc[0][\"protein_pdb\"], raw_dataset.iloc[0][\"ligand_pdb\"]\n",
    "\n",
    "#protein_mdtraj = convert_lines_to_mdtraj(first_protein)\n",
    "#ligand_mdtraj = convert_lines_to_mdtraj(first_ligand)\n",
    "#complex_mdtraj = combine_mdtraj(protein_mdtraj, ligand_mdtraj)"
   ]
  },
  {
   "cell_type": "code",
   "execution_count": null,
   "metadata": {
    "collapsed": true
   },
   "outputs": [],
   "source": [
    "dude_id = 'akt1'\n",
    "pdbid = dude2pdb.get(dude_id)\n",
    "\n",
    "sample_protein_pdb = './data/pdbbind/v2018/{}/{}_protein.pdb'.format(pdbid, pdbid)\n",
    "sample_pocket_pdb = './data/pdbbind/v2018/{}/{}_pocket.pdb'.format(pdbid, pdbid)\n",
    "\n",
    "positive_ligand_pdb = './data/dude/{}/actives/actives_5.pdb'.format(dude_id)\n",
    "negative_ligand_pdb = './data/dude/{}/decoys/decoys_1.pdb'.format(dude_id)"
   ]
  },
  {
   "cell_type": "code",
   "execution_count": null,
   "metadata": {
    "collapsed": true
   },
   "outputs": [],
   "source": [
    "protein_traj = md.load(sample_protein_pdb)\n",
    "pocket_traj = md.load(sample_pocket_pdb)\n",
    "pos_lig_traj = md.load(positive_ligand_pdb)\n",
    "neg_lig_traj = md.load(negative_ligand_pdb)"
   ]
  },
  {
   "cell_type": "code",
   "execution_count": null,
   "metadata": {},
   "outputs": [],
   "source": [
    "visualize_protein(md.load(sample_protein_pdb))"
   ]
  },
  {
   "cell_type": "code",
   "execution_count": null,
   "metadata": {
    "collapsed": true,
    "scrolled": true
   },
   "outputs": [],
   "source": [
    "visualize_protein(pocket_traj)"
   ]
  },
  {
   "cell_type": "code",
   "execution_count": null,
   "metadata": {
    "collapsed": true
   },
   "outputs": [],
   "source": [
    "visualize_ligand(pos_lig_traj)"
   ]
  },
  {
   "cell_type": "code",
   "execution_count": null,
   "metadata": {
    "collapsed": true
   },
   "outputs": [],
   "source": [
    "visualize_ligand(neg_lig_traj)"
   ]
  },
  {
   "cell_type": "code",
   "execution_count": null,
   "metadata": {
    "collapsed": true
   },
   "outputs": [],
   "source": [
    "visualize_dude_complex('kif11', 'decoys', 4, show_pdb=False)"
   ]
  },
  {
   "cell_type": "code",
   "execution_count": null,
   "metadata": {
    "collapsed": true
   },
   "outputs": [],
   "source": [
    "visualize_complex(\n",
    "    combine_mdtraj(md.load('./data/docking/1l2s/1l2s_pocket.pdb'), \n",
    "                   md.load('./data/docking/1l2s/1l2s_docked_actives_1.pdb')))"
   ]
  },
  {
   "cell_type": "code",
   "execution_count": null,
   "metadata": {
    "collapsed": true
   },
   "outputs": [],
   "source": [
    "visualize_complex(\n",
    "    combine_mdtraj(md.load('./data/pdbbind/v2018/1l2s/1l2s_protein.pdb'), \n",
    "                   md.load('./data/docking/1l2s/1l2s_docked_actives_2.pdb')))"
   ]
  },
  {
   "cell_type": "markdown",
   "metadata": {},
   "source": [
    "#### As a graph"
   ]
  },
  {
   "cell_type": "code",
   "execution_count": null,
   "metadata": {
    "collapsed": true
   },
   "outputs": [],
   "source": [
    "%matplotlib inline\n",
    "from rdkit.Chem.Draw import IPythonConsole\n",
    "import networkx as nx\n",
    "from rdkit.Chem.rdmolfiles import MolFromPDBFile\n",
    "import matplotlib.pyplot as plt\n",
    "\n",
    "def mol_to_nx(mol):\n",
    "    \n",
    "    \"\"\"\n",
    "    https://github.com/maxhodak/keras-molecules/pull/32/commits/dbbb790e74e406faa70b13e8be8104d9e938eba2\n",
    "    \"\"\"\n",
    "    G = nx.Graph()\n",
    "\n",
    "    for atom in mol.GetAtoms():\n",
    "        G.add_node(atom.GetIdx(),\n",
    "                   atomic_num=atom.GetAtomicNum(),\n",
    "                   formal_charge=atom.GetFormalCharge(),\n",
    "                   chiral_tag=atom.GetChiralTag(),\n",
    "                   hybridization=atom.GetHybridization(),\n",
    "                   num_explicit_hs=atom.GetNumExplicitHs(),\n",
    "                   is_aromatic=atom.GetIsAromatic())\n",
    "    for bond in mol.GetBonds():\n",
    "        G.add_edge(bond.GetBeginAtomIdx(),\n",
    "                   bond.GetEndAtomIdx(),\n",
    "                   bond_type=bond.GetBondType())\n",
    "    return G\n",
    "\n",
    "protein = MolFromPDBFile(sample_protein_pdb)\n",
    "protein_graph = mol_to_nx(protein)\n",
    "pos = nx.spring_layout(protein_graph) \n",
    "nx.draw(protein_graph, width=1, node_size=2)"
   ]
  },
  {
   "cell_type": "markdown",
   "metadata": {},
   "source": [
    "### Distance Calculation between protein and ligand"
   ]
  },
  {
   "cell_type": "code",
   "execution_count": null,
   "metadata": {
    "collapsed": true
   },
   "outputs": [],
   "source": [
    "from Bio.PDB import PDBParser\n",
    "import numpy as np\n",
    "\n",
    "def get_centroid(pdbid):\n",
    "    ligand_pdb = \"./data/pdbbind/v2018/{}/{}_ligand.pdb\".format(pdbid, pdbid)\n",
    "\n",
    "    p = PDBParser()\n",
    "    s = p.get_structure(pdbid, ligand_pdb)                    \n",
    "\n",
    "\n",
    "    model = [m for m in s][0]\n",
    "    chain = [c for c in model][0]\n",
    "    residue = [r for r in chain][0]\n",
    "\n",
    "    mat = np.array([atom.get_vector().get_array() for atom in residue])\n",
    "    \n",
    "    return np.mean(mat, axis=0)\n"
   ]
  },
  {
   "cell_type": "code",
   "execution_count": null,
   "metadata": {
    "collapsed": true
   },
   "outputs": [],
   "source": [
    "centroid = get_centroid(\"1uu3\")"
   ]
  },
  {
   "cell_type": "code",
   "execution_count": null,
   "metadata": {
    "collapsed": true
   },
   "outputs": [],
   "source": [
    "def get_distance_from_ligand_centroid(pdbid):\n",
    "    pocket_pdb = \"./data/pdbbind/v2018/{}/{}_pocket.pdb\".format(pdbid, pdbid)\n",
    "\n",
    "    centroid = get_centroid(pdbid)\n",
    "    p = PDBParser()\n",
    "    s = p.get_structure(pdbid.upper(), pocket_pdb)\n",
    "    \n",
    "    model = [m for m in s][0]\n",
    "    chain = [c for c in model][0]\n",
    "    residue = [r for r in chain][0]\n",
    "    \n",
    "    vectors = [atom.get_vector().get_array() for atom in residue]\n",
    "    \n",
    "    return [np.linalg.norm(vector - centroid) for vector in vectors]"
   ]
  },
  {
   "cell_type": "code",
   "execution_count": null,
   "metadata": {
    "collapsed": true
   },
   "outputs": [],
   "source": [
    "pdbid = '2y2i'\n",
    "get_distance_from_ligand_centroid(\"2y2i\")"
   ]
  },
  {
   "cell_type": "code",
   "execution_count": null,
   "metadata": {
    "collapsed": true
   },
   "outputs": [],
   "source": [
    "distance_affinity = []\n",
    "for i in binding_affinity_df[binding_affinity_df[\"-log(kd/ki)\"].notna()].index.tolist():\n",
    "    pdbid = binding_affinity_df.loc[i, 'id']\n",
    "    try:\n",
    "        distance_affinity.append((np.mean(get_distance_from_ligand_centroid(pdbid)), \n",
    "                                  binding_affinity_df.loc[i, '-log(kd/ki)']))\n",
    "    except:\n",
    "        continue\n",
    "    "
   ]
  },
  {
   "cell_type": "code",
   "execution_count": null,
   "metadata": {
    "collapsed": true
   },
   "outputs": [],
   "source": [
    "distance = [da[0] for da in distance_affinity]\n",
    "affinity = [da[1] for da in distance_affinity]\n",
    "\n",
    "plt.plot(distance, affinity, 'o')"
   ]
  }
 ],
 "metadata": {
  "kernelspec": {
   "display_name": "gnn",
   "language": "python",
   "name": "gnn"
  },
  "language_info": {
   "codemirror_mode": {
    "name": "ipython",
    "version": 3
   },
   "file_extension": ".py",
   "mimetype": "text/x-python",
   "name": "python",
   "nbconvert_exporter": "python",
   "pygments_lexer": "ipython3",
   "version": "3.6.5"
  }
 },
 "nbformat": 4,
 "nbformat_minor": 2
}
