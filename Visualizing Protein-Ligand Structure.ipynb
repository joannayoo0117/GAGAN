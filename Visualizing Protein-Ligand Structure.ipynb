{
 "cells": [
  {
   "cell_type": "code",
   "execution_count": null,
   "metadata": {},
   "outputs": [],
   "source": [
    "%matplotlib inline\n",
    "import pandas as pd\n",
    "import matplotlib.pyplot as plt\n",
    "\n",
    "pdbbind = pd.read_csv('./data/pdbbind_binding_affinity.csv')\n",
    "dude = pd.read_csv('./data/dude_info.csv')"
   ]
  },
  {
   "cell_type": "code",
   "execution_count": null,
   "metadata": {},
   "outputs": [],
   "source": [
    "ic50 = pdbbind[pdbbind['binding_type'] == 'ic50']\n",
    "ic50.nsmallest(100, 'binding_affinity')"
   ]
  },
  {
   "cell_type": "code",
   "execution_count": null,
   "metadata": {},
   "outputs": [],
   "source": [
    "plt.hist(pdbbind[pdbbind['binding_type'] == 'ic50']['binding_affinity'].tolist())"
   ]
  },
  {
   "cell_type": "code",
   "execution_count": null,
   "metadata": {},
   "outputs": [],
   "source": [
    "dude = dude.rename(columns={'Target Name': 'dude_id', 'PDB': 'id'})"
   ]
  },
  {
   "cell_type": "code",
   "execution_count": null,
   "metadata": {},
   "outputs": [],
   "source": [
    "joined = pd.merge(pdbbind, dude[['dude_id', 'id']], on='id')\n",
    "joined[joined['binding_type'] == 'ic50'].describe()"
   ]
  },
  {
   "cell_type": "code",
   "execution_count": null,
   "metadata": {},
   "outputs": [],
   "source": [
    "joined[joined.dude_id.isin(['ampc', 'cxcr4', 'gcr', 'hivrt'\n",
    "'akt1', 'cp3a4',  'hivpr', 'kif11'\n",
    "])][['id', 'dude_id']].to_csv('tmp.csv')"
   ]
  },
  {
   "cell_type": "markdown",
   "metadata": {},
   "source": [
    "## Visualize Protein "
   ]
  },
  {
   "cell_type": "markdown",
   "metadata": {},
   "source": [
    "### 3D Representation of Protein-Ligand Complex"
   ]
  },
  {
   "cell_type": "code",
   "execution_count": null,
   "metadata": {},
   "outputs": [],
   "source": [
    "%load_ext autoreload\n",
    "%autoreload 2\n",
    "%pdb off\n",
    "# set DISPLAY = True when running tutorial\n",
    "DISPLAY = False\n",
    "# set PARALLELIZE to true if you want to use ipyparallel\n",
    "PARALLELIZE = False\n",
    "import warnings\n",
    "warnings.filterwarnings('ignore')\n",
    "import nglview\n",
    "import tempfile\n",
    "import os\n",
    "import mdtraj as md\n",
    "import numpy as np\n",
    "#import deepchem.utils.visualization\n",
    "#from deepchem.utils.visualization import combine_mdtraj, visualize_complex, convert_lines_to_mdtraj\n",
    "\n",
    "# https://deepchem.io/docs/notebooks/protein_ligand_complex_notebook.html\n",
    "\n",
    "\n",
    "\"\"\"\n",
    "def convert_lines_to_mdtraj(molecule_lines):\n",
    "    molecule_lines = molecule_lines.strip('[').strip(']').replace(\"'\",\"\").replace(\"\\\\n\", \"\").split(\", \")\n",
    "    tempdir = tempfile.mkdtemp()\n",
    "    molecule_file = os.path.join(tempdir, \"molecule.pdb\")\n",
    "    with open(molecule_file, \"w\") as f:\n",
    "        for line in molecule_lines:\n",
    "            f.write(\"%s\\n\" % line)dude_id = 'akt1'\n",
    "pdbid = dude2pdb.get(dude_id)\n",
    "\n",
    "sample_protein_pdb = './data/dude/{}/receptor.pdb'.format(dude_id)\n",
    "sample_pocket_pdb = './data/pdbbind/v2018/{}/{}_pocket.pdb'.format(pdbid, pdbid)\n",
    "\n",
    "positive_ligand_pdb = './data/dude/{}/actives/actives_1.pdb'.format(dude_id)\n",
    "negative_ligand_pdb = './data/dude/{}/decoys/decoys_1.pdb'.format(dude_id)\n",
    "    molecule_mdtraj = md.load(molecule_file)\n",
    "    return molecule_mdtraj\n",
    "\"\"\"\n",
    "def visualize_protein(molecule_mdtraj):\n",
    "    traj = nglview.MDTrajTrajectory(molecule_mdtraj) \n",
    "    ngltraj = nglview.NGLWidget( traj )\n",
    "    \n",
    "    return ngltraj\n",
    "\n",
    "def visualize_ligand(ligand_mdtraj):\n",
    "    traj = nglview.MDTrajTrajectory( ligand_mdtraj ) # load file from RCSB PDB\n",
    "    ngltraj = nglview.NGLWidget( traj )\n",
    "    ngltraj.representations = [\n",
    "        { \"type\": \"ball+stick\", \"params\": {\"sele\": \"all\" } } ]\n",
    "    return ngltraj\n",
    "\n",
    "def combine_mdtraj(protein, ligand):\n",
    "    chain = protein.topology.add_chain()\n",
    "    residue = protein.topology.add_residue(\"LIG\", chain, resSeq=1)\n",
    "    for atom in ligand.topology.atoms:\n",
    "        protein.topology.add_atom(atom.name, atom.element, residue)\n",
    "    protein.xyz = np.hstack([protein.xyz, ligand.xyz])\n",
    "    protein.topology.create_standard_bonds()\n",
    "\n",
    "    return protein\n",
    "    \n",
    "def visualize_complex(complex_mdtraj):\n",
    "    ligand_atoms = [a.index for a in complex_mdtraj.topology.atoms if \"LIG\" in str(a.residue)]\n",
    "    binding_pocket_atoms = md.compute_neighbors(complex_mdtraj, 0.5, ligand_atoms)[0]\n",
    "    binding_pocket_residues = list(set([complex_mdtraj.topology.atom(a).residue.resSeq for a in binding_pocket_atoms]))\n",
    "    binding_pocket_residues = [str(r) for r in binding_pocket_residues]\n",
    "    binding_pocket_residues = \" or \".join(binding_pocket_residues)\n",
    "\n",
    "    traj = nglview.MDTrajTrajectory( complex_mdtraj ) # load file from RCSB PDB\n",
    "    ngltraj = nglview.NGLWidget( traj )\n",
    "    ngltraj.representations = [\n",
    "    { \"type\": \"cartoon\", \"params\": {\n",
    "    \"sele\": \"protein\", \"color\": \"residueindex\"\n",
    "    } },\n",
    "    { \"type\": \"licorice\", \"params\": {\n",
    "    \"sele\": \"(not hydrogen) and (%s)\" %  binding_pocket_residues\n",
    "    } },\n",
    "    { \"type\": \"ball+stick\", \"params\": {\n",
    "    \"sele\": \"LIG\"\n",
    "    } }\n",
    "    ]\n",
    "    return ngltraj\n",
    "\n",
    "\n",
    "def visualize_dude_complex(dude_id, type, i, show_pdb=True):\n",
    "    protein_pdb = './data/dude/{}/receptor.pdb'.format(dude_id)\n",
    "    \n",
    "    if dude_id in dude2pdb and show_pdb:\n",
    "        print('Showing PDBBind ID {}'.format(dude2pdb[dude_id]))\n",
    "        protein_pdb = './data/pdbbind/v2018/{}/{}_protein.pdb'.format(dude2pdb[dude_id], dude2pdb[dude_id])\n",
    "    \n",
    "    ligand_pdb = './data/dude/%s/%s/%s_%d.pdb' % (dude_id, type, type, i)\n",
    "\n",
    "    return visualize_complex(combine_mdtraj(md.load(protein_pdb), md.load(ligand_pdb)))\n",
    "    \n",
    "#first_protein, first_ligand = raw_dataset.iloc[0][\"protein_pdb\"], raw_dataset.iloc[0][\"ligand_pdb\"]\n",
    "\n",
    "#protein_mdtraj = convert_lines_to_mdtraj(first_protein)\n",
    "#ligand_mdtraj = convert_lines_to_mdtraj(first_ligand)\n",
    "#complex_mdtraj = combine_mdtraj(protein_mdtraj, ligand_mdtraj)"
   ]
  },
  {
   "cell_type": "code",
   "execution_count": null,
   "metadata": {},
   "outputs": [],
   "source": [
    "dude_id = 'akt1'\n",
    "pdbid = dude2pdb.get(dude_id)\n",
    "\n",
    "sample_protein_pdb = './data/pdbbind/v2018/{}/{}_protein.pdb'.format(pdbid, pdbid)\n",
    "sample_pocket_pdb = './data/pdbbind/v2018/{}/{}_pocket.pdb'.format(pdbid, pdbid)\n",
    "\n",
    "positive_ligand_pdb = './data/dude/{}/actives/actives_5.pdb'.format(dude_id)\n",
    "negative_ligand_pdb = './data/dude/{}/decoys/decoys_1.pdb'.format(dude_id)"
   ]
  },
  {
   "cell_type": "code",
   "execution_count": null,
   "metadata": {},
   "outputs": [],
   "source": [
    "protein_traj = md.load(sample_protein_pdb)\n",
    "pocket_traj = md.load(sample_pocket_pdb)\n",
    "pos_lig_traj = md.load(positive_ligand_pdb)\n",
    "neg_lig_traj = md.load(negative_ligand_pdb)"
   ]
  },
  {
   "cell_type": "code",
   "execution_count": null,
   "metadata": {},
   "outputs": [],
   "source": [
    "visualize_protein(md.load(sample_protein_pdb))"
   ]
  },
  {
   "cell_type": "code",
   "execution_count": null,
   "metadata": {
    "scrolled": true
   },
   "outputs": [],
   "source": [
    "visualize_protein(pocket_traj)"
   ]
  },
  {
   "cell_type": "code",
   "execution_count": null,
   "metadata": {},
   "outputs": [],
   "source": [
    "visualize_ligand(pos_lig_traj)"
   ]
  },
  {
   "cell_type": "code",
   "execution_count": null,
   "metadata": {},
   "outputs": [],
   "source": [
    "visualize_ligand(neg_lig_traj)"
   ]
  },
  {
   "cell_type": "code",
   "execution_count": null,
   "metadata": {},
   "outputs": [],
   "source": [
    "visualize_dude_complex('kif11', 'decoys', 4, show_pdb=True)"
   ]
  },
  {
   "cell_type": "code",
   "execution_count": null,
   "metadata": {},
   "outputs": [],
   "source": [
    "visualize_complex(\n",
    "    combine_mdtraj(md.load('./data/docking/1l2s/1l2s_pocket.pdb'), \n",
    "                   md.load('./data/docking/1l2s/1l2s_docked_actives_1.pdb')))"
   ]
  },
  {
   "cell_type": "code",
   "execution_count": null,
   "metadata": {},
   "outputs": [],
   "source": [
    "visualize_complex(\n",
    "    combine_mdtraj(md.load('./data/pdbbind/v2018/1l2s/1l2s_protein.pdb'), \n",
    "                   md.load('./data/docking/1l2s/1l2s_docked_actives_2.pdb')))"
   ]
  },
  {
   "cell_type": "markdown",
   "metadata": {},
   "source": [
    "#### As a graph"
   ]
  },
  {
   "cell_type": "code",
   "execution_count": null,
   "metadata": {},
   "outputs": [],
   "source": [
    "%matplotlib inline\n",
    "from rdkit.Chem.Draw import IPythonConsole\n",
    "#import networkx as nx\n",
    "from rdkit.Chem.rdmolfiles import MolFromPDBFile\n",
    "import matplotlib.pyplot as plt\n",
    "\n",
    "def mol_to_nx(mol):\n",
    "    \n",
    "    \"\"\"\n",
    "    https://github.com/maxhodak/keras-molecules/pull/32/commits/dbbb790e74e406faa70b13e8be8104d9e938eba2\n",
    "    \"\"\"\n",
    "    G = nx.Graph()\n",
    "\n",
    "    for atom in mol.GetAtoms():\n",
    "        G.add_node(atom.GetIdx(),\n",
    "                   atomic_num=atom.GetAtomicNum(),\n",
    "                   formal_charge=atom.GetFormalCharge(),\n",
    "                   chiral_tag=atom.GetChiralTag(),\n",
    "                   hybridization=atom.GetHybridization(),\n",
    "                   num_explicit_hs=atom.GetNumExplicitHs(),\n",
    "                   is_aromatic=atom.GetIsAromatic())\n",
    "    for bond in mol.GetBonds():\n",
    "        G.add_edge(bond.GetBeginAtomIdx(),\n",
    "                   bond.GetEndAtomIdx(),\n",
    "                   bond_type=bond.GetBondType())\n",
    "    return G\n",
    "\n",
    "protein = MolFromPDBFile(sample_protein_pdb)\n",
    "protein_graph = mol_to_nx(protein)\n",
    "pos = nx.spring_layout(protein_graph) \n",
    "nx.draw(protein_graph, width=1, node_size=2)"
   ]
  },
  {
   "cell_type": "markdown",
   "metadata": {},
   "source": [
    "### Distance Calculation between protein and ligand"
   ]
  },
  {
   "cell_type": "code",
   "execution_count": null,
   "metadata": {},
   "outputs": [],
   "source": [
    "from Bio.PDB import PDBParser\n",
    "import numpy as np\n",
    "\n",
    "def get_centroid(pdbid):\n",
    "    ligand_pdb = \"./data/pdbbind/v2018/{}/{}_ligand.pdb\".format(pdbid, pdbid)\n",
    "\n",
    "    p = PDBParser()\n",
    "    s = p.get_structure(pdbid, ligand_pdb)                    \n",
    "\n",
    "\n",
    "    model = [m for m in s][0]\n",
    "    chain = [c for c in model][0]\n",
    "    residue = [r for r in chain][0]\n",
    "\n",
    "    mat = np.array([atom.get_vector().get_array() for atom in residue])\n",
    "    \n",
    "    return np.mean(mat, axis=0)\n"
   ]
  },
  {
   "cell_type": "code",
   "execution_count": null,
   "metadata": {},
   "outputs": [],
   "source": [
    "centroid = get_centroid(\"1uu3\")"
   ]
  },
  {
   "cell_type": "code",
   "execution_count": null,
   "metadata": {},
   "outputs": [],
   "source": [
    "def get_distance_from_ligand_centroid(pdbid):\n",
    "    pocket_pdb = \"./data/pdbbind/v2018/{}/{}_pocket.pdb\".format(pdbid, pdbid)\n",
    "\n",
    "    centroid = get_centroid(pdbid)\n",
    "    p = PDBParser()\n",
    "    s = p.get_structure(pdbid.upper(), pocket_pdb)\n",
    "    \n",
    "    model = [m for m in s][0]\n",
    "    chain = [c for c in model][0]\n",
    "    residue = [r for r in chain][0]\n",
    "    \n",
    "    vectors = [atom.get_vector().get_array() for atom in residue]\n",
    "    \n",
    "    return [np.linalg.norm(vector - centroid) for vector in vectors]"
   ]
  },
  {
   "cell_type": "code",
   "execution_count": null,
   "metadata": {},
   "outputs": [],
   "source": [
    "pdbid = '2y2i'\n",
    "get_distance_from_ligand_centroid(\"2y2i\")"
   ]
  },
  {
   "cell_type": "code",
   "execution_count": null,
   "metadata": {},
   "outputs": [],
   "source": [
    "distance_affinity = []\n",
    "for i in binding_affinity_df[binding_affinity_df[\"-log(kd/ki)\"].notna()].index.tolist():\n",
    "    pdbid = binding_affinity_df.loc[i, 'id']\n",
    "    try:\n",
    "        distance_affinity.append((np.mean(get_distance_from_ligand_centroid(pdbid)), \n",
    "                                  binding_affinity_df.loc[i, '-log(kd/ki)']))\n",
    "    except:\n",
    "        continue\n",
    "    "
   ]
  },
  {
   "cell_type": "code",
   "execution_count": null,
   "metadata": {},
   "outputs": [],
   "source": [
    "distance = [da[0] for da in distance_affinity]\n",
    "affinity = [da[1] for da in distance_affinity]\n",
    "\n",
    "plt.plot(distance, affinity, 'o')"
   ]
  }
 ],
 "metadata": {
  "kernelspec": {
   "display_name": "gnn",
   "language": "python",
   "name": "gnn"
  },
  "language_info": {
   "codemirror_mode": {
    "name": "ipython",
    "version": 3
   },
   "file_extension": ".py",
   "mimetype": "text/x-python",
   "name": "python",
   "nbconvert_exporter": "python",
   "pygments_lexer": "ipython3",
   "version": "3.6.5"
  }
 },
 "nbformat": 4,
 "nbformat_minor": 2
}
